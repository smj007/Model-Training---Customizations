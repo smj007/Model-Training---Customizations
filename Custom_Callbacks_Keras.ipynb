{
  "nbformat": 4,
  "nbformat_minor": 0,
  "metadata": {
    "colab": {
      "name": "Custom Callbacks - Keras",
      "provenance": []
    },
    "kernelspec": {
      "name": "python3",
      "display_name": "Python 3"
    }
  },
  "cells": [
    {
      "cell_type": "code",
      "metadata": {
        "id": "fH-eJnvfTUYy",
        "colab_type": "code",
        "colab": {
          "base_uri": "https://localhost:8080/",
          "height": 34
        },
        "outputId": "ee8e210c-e8d9-41fe-d43f-f81cb11d81eb"
      },
      "source": [
        "%matplotlib inline\n",
        "import tensorflow as tf\n",
        "import numpy as np\n",
        "import os\n",
        "import matplotlib.pyplot as plt\n",
        "\n",
        "print(\"Tensorflow version: \" , tf.__version__)"
      ],
      "execution_count": 1,
      "outputs": [
        {
          "output_type": "stream",
          "text": [
            "Tensorflow version:  2.2.0\n"
          ],
          "name": "stdout"
        }
      ]
    },
    {
      "cell_type": "code",
      "metadata": {
        "id": "hp6mH5wbTrGg",
        "colab_type": "code",
        "colab": {
          "base_uri": "https://localhost:8080/",
          "height": 51
        },
        "outputId": "b64a4dea-4f04-4116-ad60-e49f8c22ca5c"
      },
      "source": [
        "(x_train, y_train), (x_test, y_test) = tf.keras.datasets.mnist.load_data()\n",
        "\n",
        "x_train = np.reshape(x_train, (60000, 784))/255.\n",
        "x_test = np.reshape(x_test, (10000, 784))/255.\n",
        "\n",
        "y_train = tf.keras.utils.to_categorical(y_train)\n",
        "y_test = tf.keras.utils.to_categorical(y_test)\n"
      ],
      "execution_count": 2,
      "outputs": [
        {
          "output_type": "stream",
          "text": [
            "Downloading data from https://storage.googleapis.com/tensorflow/tf-keras-datasets/mnist.npz\n",
            "11493376/11490434 [==============================] - 0s 0us/step\n"
          ],
          "name": "stdout"
        }
      ]
    },
    {
      "cell_type": "code",
      "metadata": {
        "id": "WqJpLHgKT8lI",
        "colab_type": "code",
        "colab": {
          "base_uri": "https://localhost:8080/",
          "height": 225
        },
        "outputId": "0e8ca447-b546-48ab-d6d7-9ac13ee33e89"
      },
      "source": [
        "model = tf.keras.models.Sequential([\n",
        "    tf.keras.layers.Dense(16, activation='relu', input_shape=(784,)),\n",
        "    tf.keras.layers.Dense(10, activation='softmax')\n",
        "])\n",
        "\n",
        "optim = tf.keras.optimizers.SGD(learning_rate=0.02)\n",
        "model.compile(loss = 'categorical_crossentropy', optimizer = optim, metrics = ['accuracy'])\n",
        "model.summary()"
      ],
      "execution_count": 3,
      "outputs": [
        {
          "output_type": "stream",
          "text": [
            "Model: \"sequential\"\n",
            "_________________________________________________________________\n",
            "Layer (type)                 Output Shape              Param #   \n",
            "=================================================================\n",
            "dense (Dense)                (None, 16)                12560     \n",
            "_________________________________________________________________\n",
            "dense_1 (Dense)              (None, 10)                170       \n",
            "=================================================================\n",
            "Total params: 12,730\n",
            "Trainable params: 12,730\n",
            "Non-trainable params: 0\n",
            "_________________________________________________________________\n"
          ],
          "name": "stdout"
        }
      ]
    },
    {
      "cell_type": "code",
      "metadata": {
        "id": "Sm5LgOZcU4jV",
        "colab_type": "code",
        "colab": {}
      },
      "source": [
        "class CustomCallback(tf.keras.callbacks.Callback):\n",
        "    \n",
        "    def __init__(self, fraction):\n",
        "        super(CustomCallback, self).__init__()\n",
        "        \n",
        "        self.fraction = fraction\n",
        "        self.train_a = []\n",
        "        self.val_a = []\n",
        "        \n",
        "        with open('log.txt', 'w') as f:\n",
        "            f.write('Start of log\\n')\n",
        "        \n",
        "        self.fig = plt.figure(figsize=(4, 3))\n",
        "        self.ax = plt.subplot(1, 1, 1)\n",
        "        plt.ion()\n",
        "    \n",
        "    def on_train_begin(self, logs=None):\n",
        "        self.fig.show()\n",
        "        self.fig.canvas.draw()\n",
        "    \n",
        "    def on_train_end(self, logs=None):\n",
        "        with open('log.txt', 'a') as f:\n",
        "            f.write('End of log\\n')\n",
        "    \n",
        "    def on_epoch_begin(self, epoch, logs=None):\n",
        "        lr = self.fraction * tf.keras.backend.get_value(self.model.optimizer.lr)\n",
        "        tf.keras.backend.set_value(self.model.optimizer.lr, lr)\n",
        "        with open('log.txt', 'a') as f:\n",
        "            f.write('Epoch:{:02d}, Learning Rate:{:.4f}, '.format(epoch, lr))\n",
        "        \n",
        "    def on_epoch_end(self, epoch, logs=None):\n",
        "        val_acc = logs.get('val_accuracy')\n",
        "        train_acc = logs.get('accuracy')\n",
        "        \n",
        "        self.train_a.append(train_acc)\n",
        "        self.val_a.append(val_acc)\n",
        "        \n",
        "        with open('log.txt', 'a') as f:\n",
        "            f.write('Train Acc:{:.3f}, Val Acc:{:.3f}\\n'.format(train_acc , val_acc))\n",
        "        \n",
        "        self.ax.clear()\n",
        "        self.ax.plot(range(epoch + 1), self.train_a, label='Training Acc')\n",
        "        self.ax.plot(range(epoch + 1), self.val_a, label='Validation Acc')\n",
        "        self.ax.set_xlabel('Epochs')\n",
        "        self.ax.set_ylabel('Accuracy')\n",
        "        self.ax.legend()\n",
        "        self.fig.canvas.draw()"
      ],
      "execution_count": 0,
      "outputs": []
    },
    {
      "cell_type": "code",
      "metadata": {
        "id": "ZDirW27jZujl",
        "colab_type": "code",
        "colab": {
          "base_uri": "https://localhost:8080/",
          "height": 215
        },
        "outputId": "0164a124-f4c0-4136-86bd-0fec0f298253"
      },
      "source": [
        "cc = CustomCallback(fraction = 0.9)"
      ],
      "execution_count": 6,
      "outputs": [
        {
          "output_type": "display_data",
          "data": {
            "image/png": "[encoded data removed]",
            "text/plain": [
              "<Figure size 288x216 with 1 Axes>"
            ]
          },
          "metadata": {
            "tags": [],
            "needs_background": "light"
          }
        }
      ]
    },
    {
      "cell_type": "code",
      "metadata": {
        "id": "F9uDO6FOaAer",
        "colab_type": "code",
        "colab": {
          "base_uri": "https://localhost:8080/",
          "height": 710
        },
        "outputId": "efc9796b-ef54-4ace-8cff-a2dc097307e4"
      },
      "source": [
        "history = model.fit(\n",
        "    x_train, y_train, \n",
        "    validation_data = (x_test, y_test),\n",
        "    epochs = 20, verbose = True,\n",
        "    callbacks = [cc]\n",
        ")"
      ],
      "execution_count": 7,
      "outputs": [
        {
          "output_type": "stream",
          "text": [
            "Epoch 1/20\n",
            "1875/1875 [==============================] - 3s 2ms/step - loss: 0.6373 - accuracy: 0.8275 - val_loss: 0.3651 - val_accuracy: 0.8984\n",
            "Epoch 2/20\n",
            "1875/1875 [==============================] - 3s 2ms/step - loss: 0.3418 - accuracy: 0.9036 - val_loss: 0.3070 - val_accuracy: 0.9161\n",
            "Epoch 3/20\n",
            "1875/1875 [==============================] - 3s 2ms/step - loss: 0.3031 - accuracy: 0.9146 - val_loss: 0.2835 - val_accuracy: 0.9212\n",
            "Epoch 4/20\n",
            "1875/1875 [==============================] - 3s 2ms/step - loss: 0.2819 - accuracy: 0.9201 - val_loss: 0.2697 - val_accuracy: 0.9263\n",
            "Epoch 5/20\n",
            "1875/1875 [==============================] - 3s 2ms/step - loss: 0.2665 - accuracy: 0.9247 - val_loss: 0.2615 - val_accuracy: 0.9274\n",
            "Epoch 6/20\n",
            "1875/1875 [==============================] - 3s 2ms/step - loss: 0.2544 - accuracy: 0.9280 - val_loss: 0.2584 - val_accuracy: 0.9269\n",
            "Epoch 7/20\n",
            "1875/1875 [==============================] - 3s 2ms/step - loss: 0.2445 - accuracy: 0.9315 - val_loss: 0.2441 - val_accuracy: 0.9312\n",
            "Epoch 8/20\n",
            "1875/1875 [==============================] - 3s 2ms/step - loss: 0.2366 - accuracy: 0.9343 - val_loss: 0.2401 - val_accuracy: 0.9337\n",
            "Epoch 9/20\n",
            "1875/1875 [==============================] - 3s 2ms/step - loss: 0.2300 - accuracy: 0.9359 - val_loss: 0.2354 - val_accuracy: 0.9347\n",
            "Epoch 10/20\n",
            "1875/1875 [==============================] - 3s 2ms/step - loss: 0.2251 - accuracy: 0.9373 - val_loss: 0.2313 - val_accuracy: 0.9349\n",
            "Epoch 11/20\n",
            "1875/1875 [==============================] - 3s 2ms/step - loss: 0.2204 - accuracy: 0.9388 - val_loss: 0.2279 - val_accuracy: 0.9369\n",
            "Epoch 12/20\n",
            "1875/1875 [==============================] - 3s 2ms/step - loss: 0.2168 - accuracy: 0.9398 - val_loss: 0.2260 - val_accuracy: 0.9359\n",
            "Epoch 13/20\n",
            "1875/1875 [==============================] - 3s 2ms/step - loss: 0.2136 - accuracy: 0.9409 - val_loss: 0.2237 - val_accuracy: 0.9369\n",
            "Epoch 14/20\n",
            "1875/1875 [==============================] - 4s 2ms/step - loss: 0.2110 - accuracy: 0.9412 - val_loss: 0.2217 - val_accuracy: 0.9384\n",
            "Epoch 15/20\n",
            "1875/1875 [==============================] - 3s 2ms/step - loss: 0.2086 - accuracy: 0.9417 - val_loss: 0.2199 - val_accuracy: 0.9383\n",
            "Epoch 16/20\n",
            "1875/1875 [==============================] - 3s 2ms/step - loss: 0.2068 - accuracy: 0.9426 - val_loss: 0.2189 - val_accuracy: 0.9393\n",
            "Epoch 17/20\n",
            "1875/1875 [==============================] - 4s 2ms/step - loss: 0.2050 - accuracy: 0.9428 - val_loss: 0.2175 - val_accuracy: 0.9405\n",
            "Epoch 18/20\n",
            "1875/1875 [==============================] - 4s 2ms/step - loss: 0.2034 - accuracy: 0.9434 - val_loss: 0.2175 - val_accuracy: 0.9401\n",
            "Epoch 19/20\n",
            "1875/1875 [==============================] - 4s 2ms/step - loss: 0.2020 - accuracy: 0.9437 - val_loss: 0.2157 - val_accuracy: 0.9405\n",
            "Epoch 20/20\n",
            "1875/1875 [==============================] - 3s 2ms/step - loss: 0.2009 - accuracy: 0.9438 - val_loss: 0.2158 - val_accuracy: 0.9409\n"
          ],
          "name": "stdout"
        }
      ]
    },
    {
      "cell_type": "code",
      "metadata": {
        "id": "7pe4bfNWaW5d",
        "colab_type": "code",
        "colab": {}
      },
      "source": [
        ""
      ],
      "execution_count": 0,
      "outputs": []
    }
  ]
}