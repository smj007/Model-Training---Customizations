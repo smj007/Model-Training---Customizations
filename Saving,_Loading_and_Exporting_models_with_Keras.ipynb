{
  "nbformat": 4,
  "nbformat_minor": 0,
  "metadata": {
    "colab": {
      "name": "Saving, Loading and Exporting models with Keras",
      "provenance": []
    },
    "kernelspec": {
      "name": "python3",
      "display_name": "Python 3"
    }
  },
  "cells": [
    {
      "cell_type": "code",
      "metadata": {
        "id": "azKPqAwJwzF9",
        "colab_type": "code",
        "colab": {
          "base_uri": "https://localhost:8080/",
          "height": 51
        },
        "outputId": "c903d8c4-402d-407b-a67f-f0655d759443"
      },
      "source": [
        "import tensorflow as tf\n",
        "import numpy as np\n",
        "import os\n",
        "\n",
        "print(\"This notebook works with tensorflow version: \", tf.__version__)\n",
        "\n",
        "folders = ['tmp', 'models', 'model_name', 'weights']\n",
        "\n",
        "for folder in folders:\n",
        "  if not os.path.isdir(folder):\n",
        "    os.mkdir(folder)\n",
        "\n",
        "print(os.listdir('.'))    "
      ],
      "execution_count": 1,
      "outputs": [
        {
          "output_type": "stream",
          "text": [
            "This notebook works with tensorflow version:  2.2.0\n",
            "['.config', 'model_name', 'weights', 'tmp', 'models', 'sample_data']\n"
          ],
          "name": "stdout"
        }
      ]
    },
    {
      "cell_type": "code",
      "metadata": {
        "id": "MWI0o53myhEM",
        "colab_type": "code",
        "colab": {
          "base_uri": "https://localhost:8080/",
          "height": 259
        },
        "outputId": "996c8239-9f4f-4768-b808-25f3773b5d4d"
      },
      "source": [
        "def create_model():\n",
        "    model = tf.keras.models.Sequential([\n",
        "        tf.keras.layers.Dense(128, activation='relu', input_shape=(784,)),\n",
        "        tf.keras.layers.Dense(64, activation='relu'),\n",
        "        tf.keras.layers.Dense(10, activation='softmax')\n",
        "    ])\n",
        "    model.compile(loss='categorical_crossentropy', optimizer='adam', metrics=['acc'])\n",
        "    return model\n",
        "\n",
        "model = create_model()\n",
        "model.summary()"
      ],
      "execution_count": 3,
      "outputs": [
        {
          "output_type": "stream",
          "text": [
            "Model: \"sequential_1\"\n",
            "_________________________________________________________________\n",
            "Layer (type)                 Output Shape              Param #   \n",
            "=================================================================\n",
            "dense_3 (Dense)              (None, 128)               100480    \n",
            "_________________________________________________________________\n",
            "dense_4 (Dense)              (None, 64)                8256      \n",
            "_________________________________________________________________\n",
            "dense_5 (Dense)              (None, 10)                650       \n",
            "=================================================================\n",
            "Total params: 109,386\n",
            "Trainable params: 109,386\n",
            "Non-trainable params: 0\n",
            "_________________________________________________________________\n"
          ],
          "name": "stdout"
        }
      ]
    },
    {
      "cell_type": "code",
      "metadata": {
        "id": "cTzUUMIpzWg2",
        "colab_type": "code",
        "colab": {
          "base_uri": "https://localhost:8080/",
          "height": 175
        },
        "outputId": "7e162d3b-a74f-4beb-96bd-660261673165"
      },
      "source": [
        "(x_train, y_train), (x_test, y_test) = tf.keras.datasets.fashion_mnist.load_data()\n",
        "\n",
        "x_train = np.reshape(x_train, (x_train.shape[0], 784))/255.\n",
        "x_test = np.reshape(x_test, (x_test.shape[0], 784))/255.\n",
        "\n",
        "y_train = tf.keras.utils.to_categorical(y_train)\n",
        "y_test = tf.keras.utils.to_categorical(y_test)"
      ],
      "execution_count": 4,
      "outputs": [
        {
          "output_type": "stream",
          "text": [
            "Downloading data from https://storage.googleapis.com/tensorflow/tf-keras-datasets/train-labels-idx1-ubyte.gz\n",
            "32768/29515 [=================================] - 0s 0us/step\n",
            "Downloading data from https://storage.googleapis.com/tensorflow/tf-keras-datasets/train-images-idx3-ubyte.gz\n",
            "26427392/26421880 [==============================] - 0s 0us/step\n",
            "Downloading data from https://storage.googleapis.com/tensorflow/tf-keras-datasets/t10k-labels-idx1-ubyte.gz\n",
            "8192/5148 [===============================================] - 0s 0us/step\n",
            "Downloading data from https://storage.googleapis.com/tensorflow/tf-keras-datasets/t10k-images-idx3-ubyte.gz\n",
            "4423680/4422102 [==============================] - 0s 0us/step\n"
          ],
          "name": "stdout"
        }
      ]
    },
    {
      "cell_type": "code",
      "metadata": {
        "id": "uX_fvzDmzoVI",
        "colab_type": "code",
        "colab": {
          "base_uri": "https://localhost:8080/",
          "height": 106
        },
        "outputId": "35a15b38-cccd-4f76-900d-30b19e63b2ce"
      },
      "source": [
        "#Using a model checkpoint during training\n",
        "checkpoint_dir = 'weights/'\n",
        "\n",
        "hist = model.fit(\n",
        "    x_train, y_train,\n",
        "    validation_data = (x_test, y_test),\n",
        "    epochs = 2,\n",
        "    batch_size = 512, \n",
        "    callbacks = [\n",
        "                 tf.keras.callbacks.ModelCheckpoint(\n",
        "                     os.path.join(checkpoint_dir, 'epoch_{epoch:02d}_acc_{val_acc:.4f}'),\n",
        "                     monitor = 'val_acc', save_weights_only = True, save_best_only = True\n",
        "                 )\n",
        "    ]\n",
        ")"
      ],
      "execution_count": 5,
      "outputs": [
        {
          "output_type": "stream",
          "text": [
            "Epoch 1/2\n",
            "118/118 [==============================] - 1s 9ms/step - loss: 0.6954 - acc: 0.7678 - val_loss: 0.4947 - val_acc: 0.8283\n",
            "Epoch 2/2\n",
            "118/118 [==============================] - 1s 8ms/step - loss: 0.4425 - acc: 0.8457 - val_loss: 0.4407 - val_acc: 0.8468\n"
          ],
          "name": "stdout"
        }
      ]
    },
    {
      "cell_type": "code",
      "metadata": {
        "id": "GsH_ad7K31PU",
        "colab_type": "code",
        "colab": {
          "base_uri": "https://localhost:8080/",
          "height": 103
        },
        "outputId": "8793f70e-65a1-4aae-8b88-e65e2f3563e7"
      },
      "source": [
        "os.listdir(checkpoint_dir)"
      ],
      "execution_count": 6,
      "outputs": [
        {
          "output_type": "execute_result",
          "data": {
            "text/plain": [
              "['epoch_01_acc_0.8283.index',\n",
              " 'epoch_01_acc_0.8283.data-00000-of-00001',\n",
              " 'epoch_02_acc_0.8468.index',\n",
              " 'checkpoint',\n",
              " 'epoch_02_acc_0.8468.data-00000-of-00001']"
            ]
          },
          "metadata": {
            "tags": []
          },
          "execution_count": 6
        }
      ]
    },
    {
      "cell_type": "code",
      "metadata": {
        "id": "JB5sjTmB37eF",
        "colab_type": "code",
        "colab": {
          "base_uri": "https://localhost:8080/",
          "height": 34
        },
        "outputId": "fe7da603-8261-4eec-8096-54f885dc334b"
      },
      "source": [
        "#Load weights\n",
        "model = create_model()\n",
        "print(model.evaluate(x_test, y_test, verbose=False))\n",
        "\n"
      ],
      "execution_count": 7,
      "outputs": [
        {
          "output_type": "stream",
          "text": [
            "[2.3242738246917725, 0.0940999984741211]\n"
          ],
          "name": "stdout"
        }
      ]
    },
    {
      "cell_type": "code",
      "metadata": {
        "id": "Ayd5EfOk5lJR",
        "colab_type": "code",
        "colab": {
          "base_uri": "https://localhost:8080/",
          "height": 34
        },
        "outputId": "db588131-3f2c-457b-f400-2860460231a2"
      },
      "source": [
        "model.load_weights('weights/epoch_02_acc_0.8468')\n",
        "print(model.evaluate(x_test, y_test, verbose=False))"
      ],
      "execution_count": 9,
      "outputs": [
        {
          "output_type": "stream",
          "text": [
            "[0.44072118401527405, 0.8468000292778015]\n"
          ],
          "name": "stdout"
        }
      ]
    },
    {
      "cell_type": "code",
      "metadata": {
        "id": "tb1j8R4m5mat",
        "colab_type": "code",
        "colab": {
          "base_uri": "https://localhost:8080/",
          "height": 106
        },
        "outputId": "1068e340-0a97-483a-9de7-e6953c9cd427"
      },
      "source": [
        "#Save the entire model during training\n",
        "\n",
        "models_dir = 'models'\n",
        "\n",
        "model = create_model()\n",
        "\n",
        "_ = model.fit(\n",
        "    x_train, y_train,\n",
        "    validation_data=(x_test, y_test),\n",
        "    epochs=2,\n",
        "    batch_size=512,\n",
        "    callbacks=[\n",
        "        tf.keras.callbacks.ModelCheckpoint(\n",
        "            os.path.join(models_dir, 'epoch_{epoch:02d}_acc_{val_acc:.4f}.h5'),\n",
        "            monitor='val_acc', save_weights_only=False, save_best_only=False\n",
        "        )\n",
        "    ]\n",
        ")"
      ],
      "execution_count": 10,
      "outputs": [
        {
          "output_type": "stream",
          "text": [
            "Epoch 1/2\n",
            "118/118 [==============================] - 1s 9ms/step - loss: 0.6947 - acc: 0.7629 - val_loss: 0.5026 - val_acc: 0.8267\n",
            "Epoch 2/2\n",
            "118/118 [==============================] - 1s 8ms/step - loss: 0.4415 - acc: 0.8449 - val_loss: 0.4520 - val_acc: 0.8437\n"
          ],
          "name": "stdout"
        }
      ]
    },
    {
      "cell_type": "code",
      "metadata": {
        "id": "LPU40Ydd6mTe",
        "colab_type": "code",
        "colab": {
          "base_uri": "https://localhost:8080/",
          "height": 34
        },
        "outputId": "a313a9d6-8713-4e21-e66e-752cb25738b3"
      },
      "source": [
        "os.listdir(models_dir)"
      ],
      "execution_count": 11,
      "outputs": [
        {
          "output_type": "execute_result",
          "data": {
            "text/plain": [
              "['epoch_01_acc_0.8267.h5', 'epoch_02_acc_0.8437.h5']"
            ]
          },
          "metadata": {
            "tags": []
          },
          "execution_count": 11
        }
      ]
    },
    {
      "cell_type": "code",
      "metadata": {
        "id": "1ULKzMqF68Di",
        "colab_type": "code",
        "colab": {
          "base_uri": "https://localhost:8080/",
          "height": 34
        },
        "outputId": "3e8a6e2b-6f19-4c99-f92a-6dd205f87e29"
      },
      "source": [
        "#Load models\n",
        "model = create_model()\n",
        "print(model.evaluate(x_test, y_test, verbose=False))"
      ],
      "execution_count": 13,
      "outputs": [
        {
          "output_type": "stream",
          "text": [
            "[2.40872859954834, 0.07620000094175339]\n"
          ],
          "name": "stdout"
        }
      ]
    },
    {
      "cell_type": "code",
      "metadata": {
        "id": "w782kVnX7DhK",
        "colab_type": "code",
        "colab": {
          "base_uri": "https://localhost:8080/",
          "height": 277
        },
        "outputId": "ef91c251-0121-4b87-bc17-162a0096404b"
      },
      "source": [
        "model = tf.keras.models.load_model('models/epoch_02_acc_0.8437.h5')\n",
        "model.summary()\n",
        "print(model.evaluate(x_test, y_test, verbose=False))"
      ],
      "execution_count": 14,
      "outputs": [
        {
          "output_type": "stream",
          "text": [
            "Model: \"sequential_3\"\n",
            "_________________________________________________________________\n",
            "Layer (type)                 Output Shape              Param #   \n",
            "=================================================================\n",
            "dense_9 (Dense)              (None, 128)               100480    \n",
            "_________________________________________________________________\n",
            "dense_10 (Dense)             (None, 64)                8256      \n",
            "_________________________________________________________________\n",
            "dense_11 (Dense)             (None, 10)                650       \n",
            "=================================================================\n",
            "Total params: 109,386\n",
            "Trainable params: 109,386\n",
            "Non-trainable params: 0\n",
            "_________________________________________________________________\n",
            "[0.4520431160926819, 0.8436999917030334]\n"
          ],
          "name": "stdout"
        }
      ]
    },
    {
      "cell_type": "code",
      "metadata": {
        "id": "hXwp4jEX7KUS",
        "colab_type": "code",
        "colab": {
          "base_uri": "https://localhost:8080/",
          "height": 34
        },
        "outputId": "e3b2f6d9-a9e5-445e-aabc-e37253f44399"
      },
      "source": [
        "#Manual saving of weights and models - easier to use\n",
        "\n",
        "model.save_weights('tmp/manually_saved')\n",
        "print(os.listdir('tmp'))"
      ],
      "execution_count": 15,
      "outputs": [
        {
          "output_type": "stream",
          "text": [
            "['manually_saved.data-00000-of-00001', 'checkpoint', 'manually_saved.index']\n"
          ],
          "name": "stdout"
        }
      ]
    },
    {
      "cell_type": "code",
      "metadata": {
        "id": "ACqR5Vpl7Uzn",
        "colab_type": "code",
        "colab": {
          "base_uri": "https://localhost:8080/",
          "height": 34
        },
        "outputId": "fcfec41b-f363-480b-ff90-b0f9ef08bcc3"
      },
      "source": [
        "model.save('tmp/manually_saved_model.h5')\n",
        "print(os.listdir('tmp'))"
      ],
      "execution_count": 16,
      "outputs": [
        {
          "output_type": "stream",
          "text": [
            "['manually_saved.data-00000-of-00001', 'manually_saved_model.h5', 'checkpoint', 'manually_saved.index']\n"
          ],
          "name": "stdout"
        }
      ]
    },
    {
      "cell_type": "code",
      "metadata": {
        "id": "IdVZOx0a7Y7F",
        "colab_type": "code",
        "colab": {
          "base_uri": "https://localhost:8080/",
          "height": 123
        },
        "outputId": "4fc21119-743f-4159-ed5f-7fe33e00721d"
      },
      "source": [
        "#Exporting and Restoring Saved Model Format\n",
        "\n",
        "model.save('model_name')\n",
        "print(os.listdir('model_name'))"
      ],
      "execution_count": 17,
      "outputs": [
        {
          "output_type": "stream",
          "text": [
            "WARNING:tensorflow:From /usr/local/lib/python3.6/dist-packages/tensorflow/python/ops/resource_variable_ops.py:1817: calling BaseResourceVariable.__init__ (from tensorflow.python.ops.resource_variable_ops) with constraint is deprecated and will be removed in a future version.\n",
            "Instructions for updating:\n",
            "If using Keras pass *_constraint arguments to layers.\n",
            "INFO:tensorflow:Assets written to: model_name/assets\n",
            "['saved_model.pb', 'variables', 'assets']\n"
          ],
          "name": "stdout"
        }
      ]
    },
    {
      "cell_type": "code",
      "metadata": {
        "id": "futC90gb8JV8",
        "colab_type": "code",
        "colab": {
          "base_uri": "https://localhost:8080/",
          "height": 51
        },
        "outputId": "ffef1ff0-35d2-46a8-ba2d-8ecc74904a39"
      },
      "source": [
        "model = tf.keras.models.load_model('model_name')\n",
        "print(model.evaluate(x_test, y_test, verbose = True))"
      ],
      "execution_count": 18,
      "outputs": [
        {
          "output_type": "stream",
          "text": [
            "313/313 [==============================] - 0s 1ms/step - loss: 0.4520 - acc: 0.8437\n",
            "[0.4520431160926819, 0.8436999917030334]\n"
          ],
          "name": "stdout"
        }
      ]
    }
  ]
}